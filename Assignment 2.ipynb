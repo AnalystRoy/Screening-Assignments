{
 "cells": [
  {
   "cell_type": "code",
   "execution_count": 1,
   "id": "cf1d8f70",
   "metadata": {},
   "outputs": [],
   "source": [
    "from abc import ABC, abstractmethod\n",
    "\n",
    "def AnimalDecorator(method):\n",
    "    def inner(ref):\n",
    "        print(\"Animal catches its food\")\n",
    "        method(ref)\n",
    "        print(\"Animal is full\")\n",
    "    return inner\n",
    "    \n"
   ]
  },
  {
   "cell_type": "code",
   "execution_count": 2,
   "id": "31dc1de1",
   "metadata": {},
   "outputs": [],
   "source": [
    "class Animal:\n",
    "    @abstractmethod\n",
    "    def move(self):\n",
    "        pass\n",
    "    \n",
    "    @AnimalDecorator\n",
    "    def eat(self):\n",
    "        print(\"Animal eats\")\n",
    "\n",
    "class LandAnimal(Animal):\n",
    "    def move(self):\n",
    "        print(\"I can move on Land\")\n",
    "\n",
    "\n",
    "class WaterAnimal(Animal):\n",
    "    def move(self):\n",
    "        print(\"I can swim on water\")\n",
    "\n",
    "\n",
    "class Amphibians(LandAnimal, WaterAnimal):\n",
    "    def move(self):\n",
    "        print(\"I can walk on Land and swim on water\")"
   ]
  },
  {
   "cell_type": "code",
   "execution_count": 3,
   "id": "cbd33c75",
   "metadata": {},
   "outputs": [
    {
     "name": "stdout",
     "output_type": "stream",
     "text": [
      "I can move on Land\n",
      "I can swim on water\n",
      "I can walk on Land and swim on water\n",
      "Animal catches its food\n",
      "Animal eats\n",
      "Animal is full\n"
     ]
    }
   ],
   "source": [
    "##Driver code\n",
    "obj = LandAnimal()\n",
    "obj.move()\n",
    "\n",
    "obj = WaterAnimal()\n",
    "obj.move()\n",
    "\n",
    "obj = Amphibians()\n",
    "obj.move()\n",
    "\n",
    "obj.eat()\n"
   ]
  },
  {
   "cell_type": "code",
   "execution_count": null,
   "id": "cc0a96b1",
   "metadata": {},
   "outputs": [],
   "source": []
  }
 ],
 "metadata": {
  "kernelspec": {
   "display_name": "Python 3",
   "language": "python",
   "name": "python3"
  },
  "language_info": {
   "codemirror_mode": {
    "name": "ipython",
    "version": 3
   },
   "file_extension": ".py",
   "mimetype": "text/x-python",
   "name": "python",
   "nbconvert_exporter": "python",
   "pygments_lexer": "ipython3",
   "version": "3.8.8"
  }
 },
 "nbformat": 4,
 "nbformat_minor": 5
}
